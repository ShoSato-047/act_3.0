{
 "cells": [
  {
   "cell_type": "markdown",
   "metadata": {
    "slideshow": {
     "slide_type": "slide"
    }
   },
   "source": [
    "# Introduction to Lists and Tuples"
   ]
  },
  {
   "cell_type": "markdown",
   "metadata": {},
   "source": [
    "## Overview"
   ]
  },
  {
   "cell_type": "markdown",
   "metadata": {},
   "source": [
    "### Mutable vs. Immutable\n",
    "\n",
    "- A data structure is **mutable** if its content can be changed in place.\n",
    "- A data structure is **immutable** if its content cannot be changed.\n",
    "\n",
    "**Best practice.** Avoid mutation when possible, as it makes it harder to reason about your program."
   ]
  },
  {
   "cell_type": "markdown",
   "metadata": {
    "editable": true,
    "slideshow": {
     "slide_type": "slide"
    },
    "tags": []
   },
   "source": [
    "## What are lists and tuples?\n",
    "\n",
    "* a `list` is a *mutable* ordered sequence.\n",
    "* a `tuple` is am *immutable* ordered sequence.\n",
    "    * `list`: index $\\rightarrow$ value\n",
    "    * `dict`: key $\\rightarrow$ value\n",
    "* **Zero indexing.** List/tuple index start a `0` and increase by 1.\n",
    "* **Mixed type.**  A list or tuple can contain any combinations of types.\n",
    "\n",
    "**Best practice.** Make lists and tuples that contain one-and-only-one type."
   ]
  },
  {
   "cell_type": "markdown",
   "metadata": {
    "slideshow": {
     "slide_type": "slide"
    }
   },
   "source": [
    "## Inline representation\n",
    "\n",
    "* delimited by `[...]` [lists] and `(...)` [tuples]\n",
    "* Entries separated by commas"
   ]
  },
  {
   "cell_type": "code",
   "execution_count": 2,
   "metadata": {
    "collapsed": false,
    "jupyter": {
     "outputs_hidden": false
    },
    "slideshow": {
     "slide_type": "fragment"
    }
   },
   "outputs": [
    {
     "data": {
      "text/plain": [
       "['April', 'Brant', 'Chris', 'Jeff', 'Tisha', 'Todd', 'Silas']"
      ]
     },
     "execution_count": 2,
     "metadata": {},
     "output_type": "execute_result"
    }
   ],
   "source": [
    "prof_first = ['April', 'Brant', 'Chris', 'Jeff', 'Tisha', 'Todd', 'Silas']\n",
    "prof_first"
   ]
  },
  {
   "cell_type": "code",
   "execution_count": 3,
   "metadata": {},
   "outputs": [
    {
     "data": {
      "text/plain": [
       "list"
      ]
     },
     "execution_count": 3,
     "metadata": {},
     "output_type": "execute_result"
    }
   ],
   "source": [
    "type(prof_first)"
   ]
  },
  {
   "cell_type": "code",
   "execution_count": 4,
   "metadata": {},
   "outputs": [
    {
     "data": {
      "text/plain": [
       "('Kerby-Helm', 'Deppa', 'Malone', 'Johnson', 'Hooks', 'Iverson', 'Bergen')"
      ]
     },
     "execution_count": 4,
     "metadata": {},
     "output_type": "execute_result"
    }
   ],
   "source": [
    "prof_last = ('Kerby-Helm', 'Deppa', 'Malone', 'Johnson', 'Hooks', 'Iverson', 'Bergen')\n",
    "prof_last"
   ]
  },
  {
   "cell_type": "code",
   "execution_count": 5,
   "metadata": {},
   "outputs": [
    {
     "data": {
      "text/plain": [
       "tuple"
      ]
     },
     "execution_count": 5,
     "metadata": {},
     "output_type": "execute_result"
    }
   ],
   "source": [
    "type(prof_last)"
   ]
  },
  {
   "cell_type": "markdown",
   "metadata": {
    "slideshow": {
     "slide_type": "slide"
    }
   },
   "source": [
    "## Accessing values - Index Syntax"
   ]
  },
  {
   "cell_type": "code",
   "execution_count": 6,
   "metadata": {
    "collapsed": false,
    "jupyter": {
     "outputs_hidden": false
    },
    "slideshow": {
     "slide_type": "fragment"
    }
   },
   "outputs": [
    {
     "data": {
      "text/plain": [
       "'April'"
      ]
     },
     "execution_count": 6,
     "metadata": {},
     "output_type": "execute_result"
    }
   ],
   "source": [
    "prof_first[0] # positive index ==> count from the left"
   ]
  },
  {
   "cell_type": "code",
   "execution_count": 7,
   "metadata": {},
   "outputs": [
    {
     "data": {
      "text/plain": [
       "'Iverson'"
      ]
     },
     "execution_count": 7,
     "metadata": {},
     "output_type": "execute_result"
    }
   ],
   "source": [
    "prof_last[-2] # negative index ==> count from the right"
   ]
  },
  {
   "cell_type": "markdown",
   "metadata": {
    "slideshow": {
     "slide_type": "slide"
    }
   },
   "source": [
    "## Accessing values - `toolz.get`\n",
    "\n",
    "* Same function for lists and dictionaries\n",
    "* Can get multiple keys\n",
    "* Allows a default value"
   ]
  },
  {
   "cell_type": "code",
   "execution_count": 8,
   "metadata": {
    "collapsed": false,
    "jupyter": {
     "outputs_hidden": false
    },
    "slideshow": {
     "slide_type": "slide"
    }
   },
   "outputs": [
    {
     "data": {
      "text/plain": [
       "'April'"
      ]
     },
     "execution_count": 8,
     "metadata": {},
     "output_type": "execute_result"
    }
   ],
   "source": [
    "from toolz import get\n",
    "get(0, prof_first)"
   ]
  },
  {
   "cell_type": "code",
   "execution_count": 9,
   "metadata": {
    "collapsed": false,
    "jupyter": {
     "outputs_hidden": false
    },
    "slideshow": {
     "slide_type": "fragment"
    }
   },
   "outputs": [
    {
     "data": {
      "text/plain": [
       "('Malone', 'Bergen')"
      ]
     },
     "execution_count": 9,
     "metadata": {},
     "output_type": "execute_result"
    }
   ],
   "source": [
    "get([2, -1], prof_last)"
   ]
  },
  {
   "cell_type": "markdown",
   "metadata": {
    "slideshow": {
     "slide_type": "slide"
    }
   },
   "source": [
    "## empty dictionary, `len` and `in`\n",
    "\n",
    "* The empty `list` is `[]`\n",
    "* The empty `tuple` is `tuple([])` [Why not `()`?]\n",
    "* `len(d)` returns number of entries\n",
    "* `in` check for entry"
   ]
  },
  {
   "cell_type": "code",
   "execution_count": 10,
   "metadata": {
    "collapsed": false,
    "jupyter": {
     "outputs_hidden": false
    },
    "scrolled": true,
    "slideshow": {
     "slide_type": "slide"
    }
   },
   "outputs": [
    {
     "data": {
      "text/plain": [
       "0"
      ]
     },
     "execution_count": 10,
     "metadata": {},
     "output_type": "execute_result"
    }
   ],
   "source": [
    "len([])"
   ]
  },
  {
   "cell_type": "code",
   "execution_count": 11,
   "metadata": {},
   "outputs": [
    {
     "data": {
      "text/plain": [
       "0"
      ]
     },
     "execution_count": 11,
     "metadata": {},
     "output_type": "execute_result"
    }
   ],
   "source": [
    "len(tuple([]))"
   ]
  },
  {
   "cell_type": "code",
   "execution_count": 12,
   "metadata": {
    "collapsed": false,
    "jupyter": {
     "outputs_hidden": false
    },
    "scrolled": true,
    "slideshow": {
     "slide_type": "fragment"
    }
   },
   "outputs": [
    {
     "data": {
      "text/plain": [
       "7"
      ]
     },
     "execution_count": 12,
     "metadata": {},
     "output_type": "execute_result"
    }
   ],
   "source": [
    "len(prof_first)"
   ]
  },
  {
   "cell_type": "code",
   "execution_count": 13,
   "metadata": {
    "collapsed": false,
    "jupyter": {
     "outputs_hidden": false
    },
    "slideshow": {
     "slide_type": "fragment"
    }
   },
   "outputs": [
    {
     "data": {
      "text/plain": [
       "False"
      ]
     },
     "execution_count": 13,
     "metadata": {},
     "output_type": "execute_result"
    }
   ],
   "source": [
    "'todd' in prof_first"
   ]
  },
  {
   "cell_type": "code",
   "execution_count": 14,
   "metadata": {
    "collapsed": false,
    "jupyter": {
     "outputs_hidden": false
    },
    "slideshow": {
     "slide_type": "fragment"
    }
   },
   "outputs": [
    {
     "data": {
      "text/plain": [
       "True"
      ]
     },
     "execution_count": 14,
     "metadata": {},
     "output_type": "execute_result"
    }
   ],
   "source": [
    "'Iverson' in prof_last"
   ]
  },
  {
   "cell_type": "markdown",
   "metadata": {},
   "source": [
    "## Working with strings and list\n",
    "\n",
    "We frequently work with strings and lists by \n",
    "* splitting a string into a list, and\n",
    "* combining a list of strings into one string"
   ]
  },
  {
   "cell_type": "markdown",
   "metadata": {},
   "source": [
    "### Combining a list of string\n",
    "\n",
    "Use `\"sep\".join(seq)` to combine a list of strings into one string."
   ]
  },
  {
   "cell_type": "code",
   "execution_count": 15,
   "metadata": {},
   "outputs": [
    {
     "data": {
      "text/plain": [
       "'April, Brant, Chris, Jeff, Tisha, Todd, Silas'"
      ]
     },
     "execution_count": 15,
     "metadata": {},
     "output_type": "execute_result"
    }
   ],
   "source": [
    "all_first = ', '.join(prof_first)\n",
    "\n",
    "all_first"
   ]
  },
  {
   "cell_type": "markdown",
   "metadata": {},
   "source": [
    "### Splitting a string into a list\n",
    "\n",
    "* Use `s.split(\"sep\")` to split a string on each \"sep\"\n",
    "* Use `s.split()` on any whitespace."
   ]
  },
  {
   "cell_type": "code",
   "execution_count": 16,
   "metadata": {},
   "outputs": [
    {
     "data": {
      "text/plain": [
       "['April', 'Brant', 'Chris', 'Jeff', 'Tisha', 'Todd', 'Silas']"
      ]
     },
     "execution_count": 16,
     "metadata": {},
     "output_type": "execute_result"
    }
   ],
   "source": [
    "all_first.split(', ')"
   ]
  },
  {
   "cell_type": "markdown",
   "metadata": {},
   "source": [
    "## `list` comprehensions\n",
    "\n",
    "An expressive and fast way of iterating on any sequence.\n",
    "\n",
    "**Syntax.** \n",
    "1. **Without filter.** `[expr for var in seq]`\n",
    "2. **With filter.** `[expr for var in seq if bool_expr]`"
   ]
  },
  {
   "cell_type": "markdown",
   "metadata": {},
   "source": [
    "#### Example 1 - Lowercase first names."
   ]
  },
  {
   "cell_type": "code",
   "execution_count": 20,
   "metadata": {},
   "outputs": [
    {
     "data": {
      "text/plain": [
       "['april', 'brant', 'chris', 'jeff', 'tisha', 'todd', 'silas']"
      ]
     },
     "execution_count": 20,
     "metadata": {},
     "output_type": "execute_result"
    }
   ],
   "source": [
    "[name.lower() for name in prof_first]"
   ]
  },
  {
   "cell_type": "markdown",
   "metadata": {},
   "source": [
    "#### Example 2 - Last names starting with a vowel"
   ]
  },
  {
   "cell_type": "code",
   "execution_count": 21,
   "metadata": {},
   "outputs": [
    {
     "data": {
      "text/plain": [
       "['Iverson']"
      ]
     },
     "execution_count": 21,
     "metadata": {},
     "output_type": "execute_result"
    }
   ],
   "source": [
    "vowels = \"aeiou\"\n",
    "\n",
    "[name for name in prof_last if name.lower()[0] in vowels]"
   ]
  },
  {
   "cell_type": "markdown",
   "metadata": {},
   "source": [
    "## Other common actions on sequences"
   ]
  },
  {
   "cell_type": "markdown",
   "metadata": {},
   "source": [
    "### Combining two lists by position with `zip`"
   ]
  },
  {
   "cell_type": "code",
   "execution_count": 22,
   "metadata": {},
   "outputs": [
    {
     "data": {
      "text/plain": [
       "[('April', 'Kerby-Helm'),\n",
       " ('Brant', 'Deppa'),\n",
       " ('Chris', 'Malone'),\n",
       " ('Jeff', 'Johnson'),\n",
       " ('Tisha', 'Hooks'),\n",
       " ('Todd', 'Iverson'),\n",
       " ('Silas', 'Bergen')]"
      ]
     },
     "execution_count": 22,
     "metadata": {},
     "output_type": "execute_result"
    }
   ],
   "source": [
    "name_tuples = [(f, l) for f, l in zip(prof_first, prof_last)]\n",
    "\n",
    "name_tuples"
   ]
  },
  {
   "cell_type": "code",
   "execution_count": 23,
   "metadata": {},
   "outputs": [
    {
     "data": {
      "text/plain": [
       "['April Kerby-Helm',\n",
       " 'Brant Deppa',\n",
       " 'Chris Malone',\n",
       " 'Jeff Johnson',\n",
       " 'Tisha Hooks',\n",
       " 'Todd Iverson',\n",
       " 'Silas Bergen']"
      ]
     },
     "execution_count": 23,
     "metadata": {},
     "output_type": "execute_result"
    }
   ],
   "source": [
    "# Combine using the `join` method\n",
    "full_name = [\" \".join((f, l)) for f, l in zip(prof_first, prof_last)]\n",
    "\n",
    "full_name"
   ]
  },
  {
   "cell_type": "code",
   "execution_count": 24,
   "metadata": {},
   "outputs": [
    {
     "data": {
      "text/plain": [
       "['April Kerby-Helm',\n",
       " 'Brant Deppa',\n",
       " 'Chris Malone',\n",
       " 'Jeff Johnson',\n",
       " 'Tisha Hooks',\n",
       " 'Todd Iverson',\n",
       " 'Silas Bergen']"
      ]
     },
     "execution_count": 24,
     "metadata": {},
     "output_type": "execute_result"
    }
   ],
   "source": [
    "# Combine using an f-string\n",
    "full_name = [f\"{f} {l}\" for f, l in zip(prof_first, prof_last)]\n",
    "\n",
    "full_name"
   ]
  },
  {
   "cell_type": "markdown",
   "metadata": {},
   "source": [
    "### Enumerating a sequence\n",
    "\n",
    "When we need to know both the value and the location of each item, we can use `enumerate`"
   ]
  },
  {
   "cell_type": "code",
   "execution_count": 25,
   "metadata": {},
   "outputs": [
    {
     "data": {
      "text/plain": [
       "[(0, 'April Kerby-Helm'),\n",
       " (1, 'Brant Deppa'),\n",
       " (2, 'Chris Malone'),\n",
       " (3, 'Jeff Johnson'),\n",
       " (4, 'Tisha Hooks'),\n",
       " (5, 'Todd Iverson'),\n",
       " (6, 'Silas Bergen')]"
      ]
     },
     "execution_count": 25,
     "metadata": {},
     "output_type": "execute_result"
    }
   ],
   "source": [
    "enum_name = [(i, n) for i, n in enumerate(full_name)]\n",
    "enum_name"
   ]
  },
  {
   "cell_type": "code",
   "execution_count": 26,
   "metadata": {},
   "outputs": [
    {
     "data": {
      "text/plain": [
       "['Brant Deppa', 'Jeff Johnson', 'Todd Iverson']"
      ]
     },
     "execution_count": 26,
     "metadata": {},
     "output_type": "execute_result"
    }
   ],
   "source": [
    "odd_index_names = [n for i, n in enumerate(full_name) if i % 2 == 1]\n",
    "odd_index_names"
   ]
  },
  {
   "cell_type": "markdown",
   "metadata": {},
   "source": [
    "### Chaining two sequences together\n",
    "\n",
    "If we want to iterate through one sequence after the other, we can use `itertools.chain`"
   ]
  },
  {
   "cell_type": "code",
   "execution_count": 27,
   "metadata": {},
   "outputs": [
    {
     "data": {
      "text/plain": [
       "['April',\n",
       " 'Brant',\n",
       " 'Chris',\n",
       " 'Jeff',\n",
       " 'Tisha',\n",
       " 'Todd',\n",
       " 'Silas',\n",
       " 'Kerby-Helm',\n",
       " 'Deppa',\n",
       " 'Malone',\n",
       " 'Johnson',\n",
       " 'Hooks',\n",
       " 'Iverson',\n",
       " 'Bergen']"
      ]
     },
     "execution_count": 27,
     "metadata": {},
     "output_type": "execute_result"
    }
   ],
   "source": [
    "from itertools import chain\n",
    "\n",
    "[n for n in chain(prof_first, prof_last)]"
   ]
  },
  {
   "cell_type": "markdown",
   "metadata": {},
   "source": [
    "## <font color=\"red\"> Exercise 3.0.1 </font>\n",
    "\n",
    "**Task.** Use a `list` comprehension and `string.join` to \n",
    "1. Make the words in each of the following sentences alternate between UPPER and lower case, and\n",
    "2. Combine the two resulting quotes into one string."
   ]
  },
  {
   "cell_type": "code",
   "execution_count": 2,
   "metadata": {},
   "outputs": [],
   "source": [
    "seuss1 = \"Today you are you That is truer than true There is no one alive who is you-er than you\"\n",
    "seuss2 = \"You're in pretty good shape for the shape you are in\""
   ]
  },
  {
   "cell_type": "markdown",
   "metadata": {},
   "source": [
    "## seuss 1"
   ]
  },
  {
   "cell_type": "code",
   "execution_count": 45,
   "metadata": {},
   "outputs": [
    {
     "data": {
      "text/plain": [
       "str"
      ]
     },
     "execution_count": 45,
     "metadata": {},
     "output_type": "execute_result"
    }
   ],
   "source": [
    "# First off, seuss1 and seuss2 need to be put into a list\n",
    "type(seuss1)"
   ]
  },
  {
   "cell_type": "code",
   "execution_count": 46,
   "metadata": {},
   "outputs": [
    {
     "data": {
      "text/plain": [
       "['Today',\n",
       " 'you',\n",
       " 'are',\n",
       " 'you',\n",
       " 'That',\n",
       " 'is',\n",
       " 'truer',\n",
       " 'than',\n",
       " 'true',\n",
       " 'There',\n",
       " 'is',\n",
       " 'no',\n",
       " 'one',\n",
       " 'alive',\n",
       " 'who',\n",
       " 'is',\n",
       " 'you-er',\n",
       " 'than',\n",
       " 'you']"
      ]
     },
     "execution_count": 46,
     "metadata": {},
     "output_type": "execute_result"
    }
   ],
   "source": [
    "seuss1_list = seuss1.split(' ')\n",
    "seuss1_list"
   ]
  },
  {
   "cell_type": "code",
   "execution_count": 54,
   "metadata": {},
   "outputs": [
    {
     "data": {
      "text/plain": [
       "[(0, 'Today'),\n",
       " (1, 'you'),\n",
       " (2, 'are'),\n",
       " (3, 'you'),\n",
       " (4, 'That'),\n",
       " (5, 'is'),\n",
       " (6, 'truer'),\n",
       " (7, 'than'),\n",
       " (8, 'true'),\n",
       " (9, 'There'),\n",
       " (10, 'is'),\n",
       " (11, 'no'),\n",
       " (12, 'one'),\n",
       " (13, 'alive'),\n",
       " (14, 'who'),\n",
       " (15, 'is'),\n",
       " (16, 'you-er'),\n",
       " (17, 'than'),\n",
       " (18, 'you')]"
      ]
     },
     "execution_count": 54,
     "metadata": {},
     "output_type": "execute_result"
    }
   ],
   "source": [
    "enum_1 = [(i, n) for i, n in enumerate(seuss1_list)]\n",
    "enum_1"
   ]
  },
  {
   "cell_type": "code",
   "execution_count": 56,
   "metadata": {},
   "outputs": [
    {
     "data": {
      "text/plain": [
       "[(1, 'you'),\n",
       " (3, 'you'),\n",
       " (5, 'is'),\n",
       " (7, 'than'),\n",
       " (9, 'There'),\n",
       " (11, 'no'),\n",
       " (13, 'alive'),\n",
       " (15, 'is'),\n",
       " (17, 'than')]"
      ]
     },
     "execution_count": 56,
     "metadata": {},
     "output_type": "execute_result"
    }
   ],
   "source": [
    "odd_index_1 = [n for i, n in enumerate(enum_1) if i % 2 != 0]\n",
    "odd_index_1"
   ]
  },
  {
   "cell_type": "code",
   "execution_count": 57,
   "metadata": {},
   "outputs": [
    {
     "data": {
      "text/plain": [
       "[(0, 'Today'),\n",
       " (2, 'are'),\n",
       " (4, 'That'),\n",
       " (6, 'truer'),\n",
       " (8, 'true'),\n",
       " (10, 'is'),\n",
       " (12, 'one'),\n",
       " (14, 'who'),\n",
       " (16, 'you-er'),\n",
       " (18, 'you')]"
      ]
     },
     "execution_count": 57,
     "metadata": {},
     "output_type": "execute_result"
    }
   ],
   "source": [
    "even_index_1 = [n for i, n in enumerate(enum_1) if i % 2 == 0]\n",
    "even_index_1"
   ]
  },
  {
   "cell_type": "code",
   "execution_count": 28,
   "metadata": {},
   "outputs": [
    {
     "ename": "AttributeError",
     "evalue": "'tuple' object has no attribute 'upper'",
     "output_type": "error",
     "traceback": [
      "\u001b[1;31m---------------------------------------------------------------------------\u001b[0m",
      "\u001b[1;31mAttributeError\u001b[0m                            Traceback (most recent call last)",
      "Cell \u001b[1;32mIn[28], line 1\u001b[0m\n\u001b[1;32m----> 1\u001b[0m [\u001b[43mn\u001b[49m\u001b[38;5;241;43m.\u001b[39;49m\u001b[43mupper\u001b[49m() \u001b[38;5;28;01mfor\u001b[39;00m n \u001b[38;5;129;01min\u001b[39;00m even_index_names]\n",
      "\u001b[1;31mAttributeError\u001b[0m: 'tuple' object has no attribute 'upper'"
     ]
    }
   ],
   "source": [
    "# The error occurs because even_index_names is a list of tuples, and each element n in the list is a tuple like (index, 'word').\n",
    "# You need to access the second element of each tuple (the string) and then convert it to uppercase.\n",
    "\n",
    "[n.upper() for n in even_index_names]"
   ]
  },
  {
   "cell_type": "code",
   "execution_count": 58,
   "metadata": {},
   "outputs": [
    {
     "data": {
      "text/plain": [
       "[(0, 'TODAY'),\n",
       " (2, 'ARE'),\n",
       " (4, 'THAT'),\n",
       " (6, 'TRUER'),\n",
       " (8, 'TRUE'),\n",
       " (10, 'IS'),\n",
       " (12, 'ONE'),\n",
       " (14, 'WHO'),\n",
       " (16, 'YOU-ER'),\n",
       " (18, 'YOU')]"
      ]
     },
     "execution_count": 58,
     "metadata": {},
     "output_type": "execute_result"
    }
   ],
   "source": [
    "# Convert only the string part of each tuple to uppercase\n",
    "\n",
    "uppercase_even_index_1 = [(index, name.upper()) for index, name in even_index_1]\n",
    "\n",
    "uppercase_even_index_1"
   ]
  },
  {
   "cell_type": "code",
   "execution_count": 59,
   "metadata": {},
   "outputs": [
    {
     "data": {
      "text/plain": [
       "[((1, 'you'), (0, 'TODAY')),\n",
       " ((3, 'you'), (2, 'ARE')),\n",
       " ((5, 'is'), (4, 'THAT')),\n",
       " ((7, 'than'), (6, 'TRUER')),\n",
       " ((9, 'There'), (8, 'TRUE')),\n",
       " ((11, 'no'), (10, 'IS')),\n",
       " ((13, 'alive'), (12, 'ONE')),\n",
       " ((15, 'is'), (14, 'WHO')),\n",
       " ((17, 'than'), (16, 'YOU-ER'))]"
      ]
     },
     "execution_count": 59,
     "metadata": {},
     "output_type": "execute_result"
    }
   ],
   "source": [
    "# Join upper and lower case tuples together\n",
    "name_tuples_1 = [(f, l) for f, l in zip(odd_index_1, uppercase_even_index_1)]\n",
    "\n",
    "name_tuples_1"
   ]
  },
  {
   "cell_type": "code",
   "execution_count": 60,
   "metadata": {},
   "outputs": [
    {
     "data": {
      "text/plain": [
       "[(0, 'TODAY'),\n",
       " (1, 'you'),\n",
       " (2, 'ARE'),\n",
       " (3, 'you'),\n",
       " (4, 'THAT'),\n",
       " (5, 'is'),\n",
       " (6, 'TRUER'),\n",
       " (7, 'than'),\n",
       " (8, 'TRUE'),\n",
       " (9, 'There'),\n",
       " (10, 'IS'),\n",
       " (11, 'no'),\n",
       " (12, 'ONE'),\n",
       " (13, 'alive'),\n",
       " (14, 'WHO'),\n",
       " (15, 'is'),\n",
       " (16, 'YOU-ER'),\n",
       " (17, 'than')]"
      ]
     },
     "execution_count": 60,
     "metadata": {},
     "output_type": "execute_result"
    }
   ],
   "source": [
    "# Flattening the list of tuples\n",
    "flattened_tuples_1 = [item for pair in name_tuples_1 for item in pair]\n",
    "\n",
    "# Sorting the list by the index\n",
    "sorted_tuples_1 = sorted(flattened_tuples_1, key=lambda x: x[0])\n",
    "\n",
    "sorted_tuples_1"
   ]
  },
  {
   "cell_type": "code",
   "execution_count": 61,
   "metadata": {},
   "outputs": [
    {
     "name": "stdout",
     "output_type": "stream",
     "text": [
      "TODAY you ARE you THAT is TRUER than TRUE There IS no ONE alive WHO is YOU-ER than\n"
     ]
    }
   ],
   "source": [
    "# Chnaging tuples to string\n",
    "result_string_1 = ' '.join(word for index, word in sorted_tuples_1)\n",
    "print(result_string_1)"
   ]
  },
  {
   "cell_type": "markdown",
   "metadata": {},
   "source": [
    "## seuss2 "
   ]
  },
  {
   "cell_type": "code",
   "execution_count": 34,
   "metadata": {},
   "outputs": [
    {
     "data": {
      "text/plain": [
       "[\"You're\",\n",
       " 'in',\n",
       " 'pretty',\n",
       " 'good',\n",
       " 'shape',\n",
       " 'for',\n",
       " 'the',\n",
       " 'shape',\n",
       " 'you',\n",
       " 'are',\n",
       " 'in']"
      ]
     },
     "execution_count": 34,
     "metadata": {},
     "output_type": "execute_result"
    }
   ],
   "source": [
    "seuss2_list = seuss2.split(' ')\n",
    "seuss2_list"
   ]
  },
  {
   "cell_type": "code",
   "execution_count": 62,
   "metadata": {},
   "outputs": [
    {
     "data": {
      "text/plain": [
       "[(0, \"You're\"),\n",
       " (1, 'in'),\n",
       " (2, 'pretty'),\n",
       " (3, 'good'),\n",
       " (4, 'shape'),\n",
       " (5, 'for'),\n",
       " (6, 'the'),\n",
       " (7, 'shape'),\n",
       " (8, 'you'),\n",
       " (9, 'are'),\n",
       " (10, 'in')]"
      ]
     },
     "execution_count": 62,
     "metadata": {},
     "output_type": "execute_result"
    }
   ],
   "source": [
    "enum_name_2 = [(i, n) for i, n in enumerate(seuss2_list)]\n",
    "enum_name_2"
   ]
  },
  {
   "cell_type": "code",
   "execution_count": 63,
   "metadata": {},
   "outputs": [
    {
     "data": {
      "text/plain": [
       "[(1, 'in'), (3, 'good'), (5, 'for'), (7, 'shape'), (9, 'are')]"
      ]
     },
     "execution_count": 63,
     "metadata": {},
     "output_type": "execute_result"
    }
   ],
   "source": [
    "odd_index_2 = [n for i, n in enumerate(enum_name_2) if i % 2 != 0]\n",
    "odd_index_2"
   ]
  },
  {
   "cell_type": "code",
   "execution_count": 64,
   "metadata": {},
   "outputs": [
    {
     "data": {
      "text/plain": [
       "[(0, \"You're\"),\n",
       " (2, 'pretty'),\n",
       " (4, 'shape'),\n",
       " (6, 'the'),\n",
       " (8, 'you'),\n",
       " (10, 'in')]"
      ]
     },
     "execution_count": 64,
     "metadata": {},
     "output_type": "execute_result"
    }
   ],
   "source": [
    "even_index_2 = [n for i, n in enumerate(enum_name_2) if i % 2 == 0]\n",
    "even_index_2"
   ]
  },
  {
   "cell_type": "code",
   "execution_count": 65,
   "metadata": {},
   "outputs": [
    {
     "data": {
      "text/plain": [
       "[(0, \"YOU'RE\"),\n",
       " (2, 'PRETTY'),\n",
       " (4, 'SHAPE'),\n",
       " (6, 'THE'),\n",
       " (8, 'YOU'),\n",
       " (10, 'IN')]"
      ]
     },
     "execution_count": 65,
     "metadata": {},
     "output_type": "execute_result"
    }
   ],
   "source": [
    "# Convert only the string part of each tuple to uppercase\n",
    "\n",
    "uppercase_even_index_2 = [(index, name.upper()) for index, name in even_index_2]\n",
    "\n",
    "uppercase_even_index_2"
   ]
  },
  {
   "cell_type": "code",
   "execution_count": 66,
   "metadata": {},
   "outputs": [
    {
     "data": {
      "text/plain": [
       "[(0, \"YOU'RE\"),\n",
       " (1, 'in'),\n",
       " (2, 'PRETTY'),\n",
       " (3, 'good'),\n",
       " (4, 'SHAPE'),\n",
       " (5, 'for'),\n",
       " (6, 'THE'),\n",
       " (7, 'shape'),\n",
       " (8, 'YOU'),\n",
       " (9, 'are')]"
      ]
     },
     "execution_count": 66,
     "metadata": {},
     "output_type": "execute_result"
    }
   ],
   "source": [
    "# Join upper and lower case tuples together\n",
    "name_tuples_2 = [(f, l) for f, l in zip(odd_index_2, uppercase_even_index_2)]\n",
    "\n",
    "# Flattening the list of tuples\n",
    "flattened_tuples_2 = [item for pair in name_tuples_2 for item in pair]\n",
    "\n",
    "# Sorting the list by the index\n",
    "sorted_tuples_2 = sorted(flattened_tuples_2, key=lambda x: x[0])\n",
    "\n",
    "sorted_tuples_2"
   ]
  },
  {
   "cell_type": "code",
   "execution_count": 67,
   "metadata": {},
   "outputs": [
    {
     "name": "stdout",
     "output_type": "stream",
     "text": [
      "YOU'RE in PRETTY good SHAPE for THE shape YOU are\n"
     ]
    }
   ],
   "source": [
    "# Chnaging tuples to string\n",
    "result_string_2 = ' '.join(word for index, word in sorted_tuples_2)\n",
    "print(result_string_2)"
   ]
  },
  {
   "cell_type": "markdown",
   "metadata": {},
   "source": [
    "## Combined final string"
   ]
  },
  {
   "cell_type": "code",
   "execution_count": 70,
   "metadata": {},
   "outputs": [
    {
     "name": "stdout",
     "output_type": "stream",
     "text": [
      "TODAY you ARE you THAT is TRUER than TRUE There IS no ONE alive WHO is YOU-ER than YOU'RE in PRETTY good SHAPE for THE shape YOU are\n"
     ]
    }
   ],
   "source": [
    "result = result_string_1 + ' ' + result_string_2\n",
    "print(result)"
   ]
  }
 ],
 "metadata": {
  "anaconda-cloud": {},
  "celltoolbar": "Slideshow",
  "kernelspec": {
   "display_name": "Python 3 (ipykernel)",
   "language": "python",
   "name": "python3"
  },
  "language_info": {
   "codemirror_mode": {
    "name": "ipython",
    "version": 3
   },
   "file_extension": ".py",
   "mimetype": "text/x-python",
   "name": "python",
   "nbconvert_exporter": "python",
   "pygments_lexer": "ipython3",
   "version": "3.12.5"
  }
 },
 "nbformat": 4,
 "nbformat_minor": 4
}
